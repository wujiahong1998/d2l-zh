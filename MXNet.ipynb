{
  "nbformat": 4,
  "nbformat_minor": 0,
  "metadata": {
    "colab": {
      "name": "MXNet.ipynb",
      "provenance": [],
      "private_outputs": true,
      "collapsed_sections": [],
      "toc_visible": true,
      "mount_file_id": "1Da4u4VUe4j9gQGWeYhXZxv74vbObBxGp",
      "authorship_tag": "ABX9TyONtiIS8Xo+A1B3N9kIJ9/S",
      "include_colab_link": true
    },
    "kernelspec": {
      "name": "python3",
      "display_name": "Python 3"
    },
    "accelerator": "GPU"
  },
  "cells": [
    {
      "cell_type": "markdown",
      "metadata": {
        "id": "view-in-github",
        "colab_type": "text"
      },
      "source": [
        "<a href=\"https://colab.research.google.com/github/wujiahong1998/d2l-zh/blob/master/MXNet.ipynb\" target=\"_parent\"><img src=\"https://colab.research.google.com/assets/colab-badge.svg\" alt=\"Open In Colab\"/></a>"
      ]
    },
    {
      "cell_type": "code",
      "metadata": {
        "id": "473vqzbMao_9",
        "colab_type": "code",
        "colab": {}
      },
      "source": [
        "!pip install mxnet-cu100"
      ],
      "execution_count": 0,
      "outputs": []
    },
    {
      "cell_type": "code",
      "metadata": {
        "id": "bajrk78ySxY6",
        "colab_type": "code",
        "colab": {}
      },
      "source": [
        "!pip install d2lzh==0.8.11"
      ],
      "execution_count": 0,
      "outputs": []
    },
    {
      "cell_type": "code",
      "metadata": {
        "id": "A2V6Rra5cXbT",
        "colab_type": "code",
        "colab": {}
      },
      "source": [
        "%matplotlib inline\n",
        "from mxnet.gluon import data as gdata\n",
        "import sys\n",
        "import time\n",
        "import matplotlib.pyplot as plt\n",
        "import d2lzh as d2l"
      ],
      "execution_count": 0,
      "outputs": []
    },
    {
      "cell_type": "markdown",
      "metadata": {
        "id": "YN4L-QhePnbw",
        "colab_type": "text"
      },
      "source": [
        "获取数据集"
      ]
    },
    {
      "cell_type": "code",
      "metadata": {
        "id": "BIkfiVO0PzAb",
        "colab_type": "code",
        "colab": {}
      },
      "source": [
        "mnist_train = gdata.vision.FashionMNIST(train=True)\n",
        "mnist_test = gdata.vision.FashionMNIST(train=False)"
      ],
      "execution_count": 0,
      "outputs": []
    },
    {
      "cell_type": "code",
      "metadata": {
        "id": "mFjIjBtTP8Kq",
        "colab_type": "code",
        "colab": {}
      },
      "source": [
        "len(mnist_train), len(mnist_test)"
      ],
      "execution_count": 0,
      "outputs": []
    },
    {
      "cell_type": "code",
      "metadata": {
        "id": "hh-Ow93j52HE",
        "colab_type": "code",
        "colab": {}
      },
      "source": [
        "feature, label = mnist_train[0]"
      ],
      "execution_count": 0,
      "outputs": []
    },
    {
      "cell_type": "code",
      "metadata": {
        "id": "lOtI30mW59Ew",
        "colab_type": "code",
        "colab": {}
      },
      "source": [
        "feature.shape, feature.dtype"
      ],
      "execution_count": 0,
      "outputs": []
    },
    {
      "cell_type": "code",
      "metadata": {
        "id": "dXWcPKGbd8EG",
        "colab_type": "code",
        "colab": {}
      },
      "source": [
        "label, type(label), label.dtype"
      ],
      "execution_count": 0,
      "outputs": []
    },
    {
      "cell_type": "code",
      "metadata": {
        "id": "rMqqE2Qyd9G7",
        "colab_type": "code",
        "colab": {}
      },
      "source": [
        "# 本函数已保存在d2lzh包中方便以后使用\n",
        "def get_fashion_mnist_labels(labels):\n",
        "    text_labels = ['t-shirt', 'trouser', 'pullover', 'dress', 'coat',\n",
        "                   'sandal', 'shirt', 'sneaker', 'bag', 'ankle boot']\n",
        "    return [text_labels[int(i)] for i in labels]"
      ],
      "execution_count": 0,
      "outputs": []
    },
    {
      "cell_type": "code",
      "metadata": {
        "id": "TTXlRPXhPNXz",
        "colab_type": "code",
        "colab": {}
      },
      "source": [
        "# 本函数已保存在d2lzh包中方便以后使用\n",
        "def show_fashion_mnist(images, labels):\n",
        "    d2l.use_svg_display()\n",
        "    # 这里的_表示我们忽略（不使用）的变量\n",
        "    _, figs = d2l.plt.subplots(1, len(images), figsize=(12, 12))\n",
        "    for f, img, lbl in zip(figs, images, labels):\n",
        "        f.imshow(img.reshape((28, 28)).asnumpy())\n",
        "        f.set_title(lbl)\n",
        "        f.axes.get_xaxis().set_visible(False)\n",
        "        f.axes.get_yaxis().set_visible(False)"
      ],
      "execution_count": 0,
      "outputs": []
    },
    {
      "cell_type": "code",
      "metadata": {
        "id": "V1XdeTxQRveE",
        "colab_type": "code",
        "colab": {}
      },
      "source": [
        "X, y = mnist_train[0:9]\n",
        "show_fashion_mnist(X, get_fashion_mnist_labels(y))"
      ],
      "execution_count": 0,
      "outputs": []
    },
    {
      "cell_type": "code",
      "metadata": {
        "id": "Bx-oq02tRyVQ",
        "colab_type": "code",
        "colab": {}
      },
      "source": [
        "batch_size = 256\n",
        "transformer = gdata.vision.transforms.ToTensor()\n",
        "if sys.platform.startswith('win'):\n",
        "    num_workers = 0  # 0表示不用额外的进程来加速读取数据\n",
        "else:\n",
        "    num_workers = 4\n",
        "\n",
        "train_iter = gdata.DataLoader(mnist_train.transform_first(transformer),\n",
        "                              batch_size, shuffle=True,\n",
        "                              num_workers=num_workers)\n",
        "test_iter = gdata.DataLoader(mnist_test.transform_first(transformer),\n",
        "                             batch_size, shuffle=False,\n",
        "                             num_workers=num_workers)"
      ],
      "execution_count": 0,
      "outputs": []
    },
    {
      "cell_type": "code",
      "metadata": {
        "id": "4qKuS07nUpcF",
        "colab_type": "code",
        "colab": {}
      },
      "source": [
        "start = time.time()\n",
        "for X, y in train_iter:\n",
        "    continue\n",
        "'%.2f sec' % (time.time() - start)"
      ],
      "execution_count": 0,
      "outputs": []
    },
    {
      "cell_type": "markdown",
      "metadata": {
        "id": "lyco66ptUsrt",
        "colab_type": "text"
      },
      "source": [
        "0实现"
      ]
    },
    {
      "cell_type": "code",
      "metadata": {
        "id": "VAjeyMmtVH_E",
        "colab_type": "code",
        "colab": {}
      },
      "source": [
        "%matplotlib inline\n",
        "import d2lzh as d2l\n",
        "from mxnet import autograd, nd"
      ],
      "execution_count": 0,
      "outputs": []
    },
    {
      "cell_type": "code",
      "metadata": {
        "id": "9oDSFI4MU_E6",
        "colab_type": "code",
        "colab": {}
      },
      "source": [
        "batch_size = 256\n",
        "train_iter, test_iter = d2l.load_data_fashion_mnist(batch_size)"
      ],
      "execution_count": 0,
      "outputs": []
    },
    {
      "cell_type": "code",
      "metadata": {
        "id": "iUwm2ao2VBX_",
        "colab_type": "code",
        "colab": {}
      },
      "source": [
        "num_inputs = 784\n",
        "num_outputs = 10\n",
        "\n",
        "W = nd.random.normal(scale=0.01, shape=(num_inputs, num_outputs))\n",
        "b = nd.zeros(num_outputs)"
      ],
      "execution_count": 0,
      "outputs": []
    },
    {
      "cell_type": "code",
      "metadata": {
        "id": "QoH3uyhCVDrj",
        "colab_type": "code",
        "colab": {}
      },
      "source": [
        "W.attach_grad()\n",
        "b.attach_grad()"
      ],
      "execution_count": 0,
      "outputs": []
    },
    {
      "cell_type": "code",
      "metadata": {
        "id": "UDb6UWf_VJz1",
        "colab_type": "code",
        "colab": {}
      },
      "source": [
        "X = nd.array([[1, 2, 3], [4, 5, 6]])\n",
        "X.sum(axis=0, keepdims=True), X.sum(axis=1, keepdims=True)"
      ],
      "execution_count": 0,
      "outputs": []
    },
    {
      "cell_type": "code",
      "metadata": {
        "id": "V5nkS8bVVL95",
        "colab_type": "code",
        "colab": {}
      },
      "source": [
        "def softmax(X):\n",
        "    X_exp = X.exp()\n",
        "    partition = X_exp.sum(axis=1, keepdims=True)\n",
        "    return X_exp / partition  # 这里应用了广播机制"
      ],
      "execution_count": 0,
      "outputs": []
    },
    {
      "cell_type": "code",
      "metadata": {
        "id": "fbGPvaGOVPTy",
        "colab_type": "code",
        "colab": {}
      },
      "source": [
        "\n",
        "X = nd.random.normal(shape=(2, 5))\n",
        "X_prob = softmax(X)\n",
        "X_prob, X_prob.sum(axis=1)"
      ],
      "execution_count": 0,
      "outputs": []
    },
    {
      "cell_type": "code",
      "metadata": {
        "id": "3OUfb2DAVQ5O",
        "colab_type": "code",
        "colab": {}
      },
      "source": [
        "def net(X):\n",
        "    return softmax(nd.dot(X.reshape((-1, num_inputs)), W) + b)"
      ],
      "execution_count": 0,
      "outputs": []
    },
    {
      "cell_type": "code",
      "metadata": {
        "id": "9WvwBrWcVS5y",
        "colab_type": "code",
        "colab": {}
      },
      "source": [
        "y_hat = nd.array([[0.1, 0.3, 0.6], [0.3, 0.2, 0.5]])\n",
        "y = nd.array([0, 2], dtype='int32')\n",
        "nd.pick(y_hat, y)"
      ],
      "execution_count": 0,
      "outputs": []
    },
    {
      "cell_type": "code",
      "metadata": {
        "id": "yXqInFBZVUPd",
        "colab_type": "code",
        "colab": {}
      },
      "source": [
        "\n",
        "def cross_entropy(y_hat, y):\n",
        "    return -nd.pick(y_hat, y).log()"
      ],
      "execution_count": 0,
      "outputs": []
    },
    {
      "cell_type": "code",
      "metadata": {
        "id": "fZDUT-zzVWBs",
        "colab_type": "code",
        "colab": {}
      },
      "source": [
        "def accuracy(y_hat, y):\n",
        "    return (y_hat.argmax(axis=1) == y.astype('float32')).mean().asscalar()"
      ],
      "execution_count": 0,
      "outputs": []
    },
    {
      "cell_type": "code",
      "metadata": {
        "id": "0X06CAz4VX5v",
        "colab_type": "code",
        "colab": {}
      },
      "source": [
        "accuracy(y_hat, y)"
      ],
      "execution_count": 0,
      "outputs": []
    },
    {
      "cell_type": "code",
      "metadata": {
        "id": "eqo4ApzHVZZQ",
        "colab_type": "code",
        "colab": {}
      },
      "source": [
        "# 本函数已保存在d2lzh包中方便以后使用。该函数将被逐步改进：它的完整实现将在“图像增广”一节中\n",
        "# 描述\n",
        "def evaluate_accuracy(data_iter, net):\n",
        "    acc_sum, n = 0.0, 0\n",
        "    for X, y in data_iter:\n",
        "        y = y.astype('float32')\n",
        "        acc_sum += (net(X).argmax(axis=1) == y).sum().asscalar()\n",
        "        n += y.size\n",
        "    return acc_sum / n"
      ],
      "execution_count": 0,
      "outputs": []
    },
    {
      "cell_type": "code",
      "metadata": {
        "id": "CaXXijppVbos",
        "colab_type": "code",
        "colab": {}
      },
      "source": [
        "evaluate_accuracy(test_iter, net)"
      ],
      "execution_count": 0,
      "outputs": []
    },
    {
      "cell_type": "code",
      "metadata": {
        "id": "xjOw2Cf3VdTI",
        "colab_type": "code",
        "colab": {}
      },
      "source": [
        "num_epochs, lr = 5, 0.1\n",
        "\n",
        "# 本函数已保存在d2lzh包中方便以后使用\n",
        "def train_ch3(net, train_iter, test_iter, loss, num_epochs, batch_size,\n",
        "              params=None, lr=None, trainer=None):\n",
        "    for epoch in range(num_epochs):\n",
        "        train_l_sum, train_acc_sum, n = 0.0, 0.0, 0\n",
        "        for X, y in train_iter:\n",
        "            with autograd.record():\n",
        "                y_hat = net(X)\n",
        "                l = loss(y_hat, y).sum()\n",
        "            l.backward()\n",
        "            if trainer is None:\n",
        "                d2l.sgd(params, lr, batch_size)\n",
        "            else:\n",
        "                trainer.step(batch_size)  # “softmax回归的简洁实现”一节将用到\n",
        "            y = y.astype('float32')\n",
        "            train_l_sum += l.asscalar()\n",
        "            train_acc_sum += (y_hat.argmax(axis=1) == y).sum().asscalar()\n",
        "            n += y.size\n",
        "        test_acc = evaluate_accuracy(test_iter, net)\n",
        "        print('epoch %d, loss %.4f, train acc %.3f, test acc %.3f'\n",
        "              % (epoch + 1, train_l_sum / n, train_acc_sum / n, test_acc))\n",
        "\n",
        "train_ch3(net, train_iter, test_iter, cross_entropy, num_epochs, batch_size,\n",
        "          [W, b], lr)"
      ],
      "execution_count": 0,
      "outputs": []
    },
    {
      "cell_type": "code",
      "metadata": {
        "id": "Lqw2usKhVfXT",
        "colab_type": "code",
        "colab": {}
      },
      "source": [
        "for X, y in test_iter:\n",
        "    break\n",
        "\n",
        "true_labels = d2l.get_fashion_mnist_labels(y.asnumpy())\n",
        "pred_labels = d2l.get_fashion_mnist_labels(net(X).argmax(axis=1).asnumpy())\n",
        "titles = [true + '\\n' + pred for true, pred in zip(true_labels, pred_labels)]\n",
        "\n",
        "d2l.show_fashion_mnist(X[0:9], titles[0:9])"
      ],
      "execution_count": 0,
      "outputs": []
    },
    {
      "cell_type": "markdown",
      "metadata": {
        "id": "ejEaRWgtVpSs",
        "colab_type": "text"
      },
      "source": [
        "简单实现"
      ]
    },
    {
      "cell_type": "code",
      "metadata": {
        "id": "ShmKjCtTVq7v",
        "colab_type": "code",
        "colab": {}
      },
      "source": [
        "%matplotlib inline\n",
        "import d2lzh as d2l\n",
        "from mxnet import gluon, init\n",
        "from mxnet.gluon import loss as gloss, nn"
      ],
      "execution_count": 0,
      "outputs": []
    },
    {
      "cell_type": "code",
      "metadata": {
        "id": "EtP2QXPcVvB8",
        "colab_type": "code",
        "colab": {}
      },
      "source": [
        "batch_size = 256\n",
        "train_iter, test_iter = d2l.load_data_fashion_mnist(batch_size)"
      ],
      "execution_count": 0,
      "outputs": []
    },
    {
      "cell_type": "code",
      "metadata": {
        "id": "WReBTafwVxVp",
        "colab_type": "code",
        "colab": {}
      },
      "source": [
        "net = nn.Sequential()\n",
        "net.add(nn.Dense(10))\n",
        "net.initialize(init.Normal(sigma=0.01))"
      ],
      "execution_count": 0,
      "outputs": []
    },
    {
      "cell_type": "code",
      "metadata": {
        "id": "thdHpO8rVzkQ",
        "colab_type": "code",
        "colab": {}
      },
      "source": [
        "loss = gloss.SoftmaxCrossEntropyLoss()"
      ],
      "execution_count": 0,
      "outputs": []
    },
    {
      "cell_type": "code",
      "metadata": {
        "id": "PihVW7FVV04M",
        "colab_type": "code",
        "colab": {}
      },
      "source": [
        "trainer = gluon.Trainer(net.collect_params(), 'sgd', {'learning_rate': 0.1})"
      ],
      "execution_count": 0,
      "outputs": []
    },
    {
      "cell_type": "code",
      "metadata": {
        "id": "Ra-m8-aaV2bf",
        "colab_type": "code",
        "colab": {}
      },
      "source": [
        "num_epochs = 5\n",
        "d2l.train_ch3(net, train_iter, test_iter, loss, num_epochs, batch_size, None,\n",
        "              None, trainer)"
      ],
      "execution_count": 0,
      "outputs": []
    },
    {
      "cell_type": "code",
      "metadata": {
        "id": "CFJSLxozV301",
        "colab_type": "code",
        "colab": {}
      },
      "source": [
        ""
      ],
      "execution_count": 0,
      "outputs": []
    }
  ]
}